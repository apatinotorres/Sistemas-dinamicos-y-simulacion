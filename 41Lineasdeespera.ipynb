{
 "cells": [
  {
   "cell_type": "code",
   "execution_count": 43,
   "id": "cc4d8522",
   "metadata": {},
   "outputs": [
    {
     "name": "stdout",
     "output_type": "stream",
     "text": [
      "Factor de uso sistema (secretaria):  0.8333333333333334\n",
      "tiempo promedio que pasa en la fila una carta (horas):  1.6666666666666667\n",
      "Numero promedio de cartas en fila de espera:  4.166666666666667\n",
      "Probabilidad de que el sistema tenga excactamente 5 cartas:  0.06697959533607682\n",
      "Probabilidad de que haya mas de 5 cartas que mecanografear:  0.3348979766803841\n"
     ]
    }
   ],
   "source": [
    "import math\n",
    "\n",
    "import sympy as sym\n",
    "from sympy import Sum, factorial\n",
    "s, n, l, m = sym.symbols('s n lambda mu')\n",
    "\n",
    "\n",
    "def modelo_monocanal(lambda_, miu, unidades):\n",
    "    ls = lambda_ / (miu - lambda_)\n",
    "    ws = 1 / (miu - lambda_)\n",
    "    lq = lambda_ ** 2 / (miu * (miu - lambda_))\n",
    "    wq = lambda_ / ( miu * (miu - lambda_))\n",
    "    rho = lambda_ / miu\n",
    "    p0 = 1 - rho\n",
    "    pn = (1 -rho) * (rho**unidades)\n",
    "    \n",
    "    return [ls, ws, lq, wq, rho, p0, pn]\n",
    "\n",
    "ejemplo = modelo_monocanal(2.5, 3, 5)\n",
    "\n",
    "# probababilidad de que la secretaria tenga MÁS de 5 cartas en fila\n",
    "acum = 0\n",
    "for i in range(5+1):\n",
    "    acum =+ (1 - (2.5/3) * ((2.5/3)**i))\n",
    "\n",
    "print(\"Factor de uso sistema (secretaria): \",  ejemplo[4] )\n",
    "print(\"tiempo promedio que pasa en la fila una carta (horas): \",  ejemplo[3] )\n",
    "print(\"Numero promedio de cartas en fila de espera: \",  ejemplo[2] )\n",
    "print(\"Probabilidad de que el sistema tenga excactamente 5 cartas: \", ejemplo[6] )\n",
    "print(\"Probabilidad de que haya mas de 5 cartas que mecanografear: \", 1-acum)\n",
    "#print(\"Probabilidad de que ningun pacinte se encuentre en el sistema: \", ejemplo[5] )\n",
    "\n",
    "\n"
   ]
  },
  {
   "cell_type": "code",
   "execution_count": 31,
   "id": "0cffa969",
   "metadata": {},
   "outputs": [
    {
     "name": "stdout",
     "output_type": "stream",
     "text": [
      "Numero promedio de llegadas al sistema:  1.8\n",
      "Tiempo promedio que pasa un cliente en todo el sistema:  0.8333333333333334\n",
      "Factor de uso del sistema:  0.6\n",
      "Numero de personas en el sistema:  1.5\n",
      "Numero promedio de personas en fila:  0.9000000000000001\n",
      "Probabilidad de que no haya ningun cliente en el sistema:  0.4\n"
     ]
    }
   ],
   "source": [
    "def ejercicio1(miu, wq):\n",
    "    lambda_ = (wq * miu**2)/(wq * miu + 1)\n",
    "    ws      = 1/(miu - lambda_)\n",
    "    rho     = lambda_/miu\n",
    "    ls      = lambda_ / (miu - lambda_)\n",
    "    lq      = (lambda_**2)/(miu * (miu - lambda_))\n",
    "    p0      = 1 - rho\n",
    "    return [lambda_, ws, rho, ls, lq, p0]\n",
    "\n",
    "\n",
    "res1 = ejercicio1(3, 0.5)\n",
    "\n",
    "print(\"Numero promedio de llegadas al sistema: \", res1[0])\n",
    "print(\"Tiempo promedio que pasa un cliente en todo el sistema: \", res1[1])\n",
    "print(\"Factor de uso del sistema: \", res1[2])\n",
    "print(\"Numero de personas en el sistema: \", res1[3])\n",
    "print(\"Numero promedio de personas en fila: \", res1[4])\n",
    "print(\"Probabilidad de que no haya ningun cliente en el sistema: \", res1[5])\n"
   ]
  },
  {
   "cell_type": "code",
   "execution_count": 30,
   "id": "a0309526",
   "metadata": {},
   "outputs": [
    {
     "name": "stdout",
     "output_type": "stream",
     "text": [
      "Numero promedio de pacientes en el sistema:  -2.6666666666666665\n",
      "tiempo promedio que un paciente esta en el sistema:  -0.2222222222222222\n",
      "Numero promedio de pacientes en fila de espera:  -4.266666666666667\n",
      "tiempo promedio que pacientes pasa en la fila del  sistema:  -0.35555555555555557\n",
      "Factor de uso sistema:  1.6\n",
      "Probabilidad de que ningun pacinte se encuentre en el sistema:  -0.6000000000000001\n",
      "Probabilidad de que el sistema tenga excactamente 3 pacientes:  -2.457600000000001\n"
     ]
    }
   ],
   "source": [
    "punto2 = modelo_monocanal(12, 7.5, 3)\n",
    "\n",
    "print(\"Numero promedio de pacientes en el sistema: \", punto2[0] )\n",
    "print(\"tiempo promedio que un paciente esta en el sistema: \", punto2[1] )\n",
    "print(\"Numero promedio de pacientes en fila de espera: \",  punto2[2] )\n",
    "print(\"tiempo promedio que pacientes pasa en la fila del  sistema: \",  punto2[3] )\n",
    "print(\"Factor de uso sistema: \",  punto2[4] )\n",
    "print(\"Probabilidad de que ningun pacinte se encuentre en el sistema: \", punto2[5] )\n",
    "print(\"Probabilidad de que el sistema tenga excactamente 3 pacientes: \", punto2[6] )"
   ]
  },
  {
   "cell_type": "code",
   "execution_count": 199,
   "id": "13d389ef",
   "metadata": {},
   "outputs": [],
   "source": [
    "expr = Sum((((l/m)**n)/factorial(n)), (n, 0, s-1))\n",
    "p0_multicanal = 1 /(expr*((l/m)**s/factorial(s)) *(1/(1-(l/(s*m)))))\n",
    "#p0_multicanal.evalf(subs={l: 1, m: 1, s:2})\n",
    "\n",
    "ls_multicanal = (l * m * (l/m)**s * p0_multicanal)/(factorial(s-1) * (s * m -l)**2) + (l/m)\n",
    "ws_multicanal = ls_multicanal/l\n",
    "lq_multicanal = p0_multicanal * (((l/m)**(s+1))/(factorial(s-1) * (s - (l/m))**2))\n",
    "wq_multicanal = ws_multicanal - 1/m"
   ]
  },
  {
   "cell_type": "code",
   "execution_count": 200,
   "id": "e863980f",
   "metadata": {},
   "outputs": [],
   "source": [
    "def modelo_multicanal(lambda_, miu, servers):\n",
    "    return [\n",
    "        p0_multicanal.evalf(subs={l: lambda_, m: miu, s: servers}),\n",
    "        ls_multicanal.evalf(subs={l: lambda_, m: miu, s: servers}),\n",
    "        ws_multicanal.evalf(subs={l: lambda_, m: miu, s: servers}),\n",
    "        lq_multicanal.evalf(subs={l: lambda_, m: miu, s: servers}),\n",
    "        wq_multicanal.evalf(subs={l: lambda_, m: miu, s: servers})\n",
    "    ]\n",
    "    "
   ]
  },
  {
   "cell_type": "code",
   "execution_count": 201,
   "id": "37d9495e",
   "metadata": {},
   "outputs": [
    {
     "name": "stdout",
     "output_type": "stream",
     "text": [
      "[0.127551020408163, 2.37222222222222, 0.169444444444444, 0.972222222222222, 0.0694444444444444]\n"
     ]
    }
   ],
   "source": [
    "x = modelo_multicanal(14,10,2)\n",
    "print(x)"
   ]
  },
  {
   "cell_type": "code",
   "execution_count": 206,
   "id": "e9ed26fe",
   "metadata": {},
   "outputs": [
    {
     "data": {
      "text/latex": [
       "$\\displaystyle 1.26984126984127$"
      ],
      "text/plain": [
       "1.26984126984127"
      ]
     },
     "execution_count": 206,
     "metadata": {},
     "output_type": "execute_result"
    }
   ],
   "source": [
    "p0_multicanal.evalf(subs={l: 0.75, m: 1, s:2})"
   ]
  },
  {
   "cell_type": "code",
   "execution_count": 203,
   "id": "24ecd030",
   "metadata": {},
   "outputs": [
    {
     "data": {
      "text/latex": [
       "$\\displaystyle \\frac{\\left(\\frac{\\lambda}{\\mu}\\right)^{- s} \\left(- \\frac{\\lambda}{\\mu s} + 1\\right) s!}{\\sum_{n=0}^{s - 1} \\frac{\\left(\\frac{\\lambda}{\\mu}\\right)^{n}}{n!}}$"
      ],
      "text/plain": [
       "(-lambda/(mu*s) + 1)*factorial(s)/((lambda/mu)**s*Sum((lambda/mu)**n/factorial(n), (n, 0, s - 1)))"
      ]
     },
     "execution_count": 203,
     "metadata": {},
     "output_type": "execute_result"
    }
   ],
   "source": [
    "p0_multicanal"
   ]
  },
  {
   "cell_type": "code",
   "execution_count": 204,
   "id": "d01c3581",
   "metadata": {},
   "outputs": [
    {
     "data": {
      "text/latex": [
       "$\\displaystyle 2.25$"
      ],
      "text/plain": [
       "2.25000000000000"
      ]
     },
     "execution_count": 204,
     "metadata": {},
     "output_type": "execute_result"
    }
   ],
   "source": [
    "expr.evalf(subs={l: 10, m:8, s:2})"
   ]
  },
  {
   "cell_type": "code",
   "execution_count": 205,
   "id": "f0c4e8c0",
   "metadata": {},
   "outputs": [
    {
     "data": {
      "text/latex": [
       "$\\displaystyle \\sum_{n=0}^{s - 1} \\frac{\\left(\\frac{\\lambda}{\\mu}\\right)^{n}}{n!}$"
      ],
      "text/plain": [
       "Sum((lambda/mu)**n/factorial(n), (n, 0, s - 1))"
      ]
     },
     "execution_count": 205,
     "metadata": {},
     "output_type": "execute_result"
    }
   ],
   "source": [
    "expr"
   ]
  },
  {
   "cell_type": "code",
   "execution_count": null,
   "id": "270de384",
   "metadata": {},
   "outputs": [],
   "source": []
  }
 ],
 "metadata": {
  "kernelspec": {
   "display_name": "Python 3 (ipykernel)",
   "language": "python",
   "name": "python3"
  },
  "language_info": {
   "codemirror_mode": {
    "name": "ipython",
    "version": 3
   },
   "file_extension": ".py",
   "mimetype": "text/x-python",
   "name": "python",
   "nbconvert_exporter": "python",
   "pygments_lexer": "ipython3",
   "version": "3.10.1"
  }
 },
 "nbformat": 4,
 "nbformat_minor": 5
}
